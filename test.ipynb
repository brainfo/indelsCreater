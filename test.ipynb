{
 "cells": [
  {
   "cell_type": "code",
   "execution_count": 22,
   "metadata": {},
   "outputs": [],
   "source": [
    "import json\n",
    "import os\n",
    "import pandas as pd\n",
    "import re"
   ]
  },
  {
   "cell_type": "code",
   "execution_count": 42,
   "metadata": {},
   "outputs": [],
   "source": [
    "## these functionalities is made into a module"
   ]
  },
  {
   "cell_type": "code",
   "execution_count": null,
   "metadata": {},
   "outputs": [],
   "source": [
    "#Process:\n",
    "## Leverage the hgvs module\n",
    "## create randpm c. variants\n",
    "## map to p. variants\n",
    "## write out to tsv files"
   ]
  },
  {
   "cell_type": "code",
   "execution_count": 23,
   "metadata": {},
   "outputs": [],
   "source": [
    "os.chdir('/mnt/data/hong/courses/varianceAnalysis/')\n",
    "with open(\"data/ADA_uniprot.json\", \"r\") as file:\n",
    "    uniprot = file.read()\n",
    "    ins = re.findall(r'(p\\.[A-Z]{1}[a-z]+\\d+_[A-Z]{1}[a-z]+\\d+ins[A-Z]{1}[a-z]+)\"',uniprot)\n",
    "    deletions = re.findall(r'(p\\.[A-Z]{1}[a-z]+\\d+del)',uniprot)"
   ]
  },
  {
   "cell_type": "markdown",
   "metadata": {},
   "source": [
    "The following block is to generate random p. insertions and deletions  \n",
    "and is not necessary for the assignment"
   ]
  },
  {
   "cell_type": "code",
   "execution_count": 7,
   "metadata": {},
   "outputs": [],
   "source": [
    "one2all ={'A': ('A', 'ALA', 'alanine'),\n",
    "    'R': ('R', 'ARG', 'arginine'),\n",
    "    'N': ('N', 'ASN', 'asparagine'),\n",
    "    'D': ('D', 'ASP', 'aspartic acid'),\n",
    "    'C': ('C', 'CYS', 'cysteine'),\n",
    "    'Q': ('Q', 'GLN', 'glutamine'),\n",
    "    'E': ('E', 'GLU', 'glutamic acid'),\n",
    "    'G': ('G', 'GLY', 'glycine'),\n",
    "    'H': ('H', 'HIS', 'histidine'),\n",
    "    'I': ('I', 'ILE', 'isoleucine'),\n",
    "    'L': ('L', 'LEU', 'leucine'),\n",
    "    'K': ('K', 'LYS', 'lysine'),\n",
    "    'M': ('M', 'MET', 'methionine'),\n",
    "    'F': ('F', 'PHE', 'phenylalanine'),\n",
    "    'P': ('P', 'PRO', 'proline'),\n",
    "    'S': ('S', 'SER', 'serine'),\n",
    "    'T': ('T', 'THR', 'threonine'),\n",
    "    'W': ('W', 'TRP', 'tryptophan'),\n",
    "    'Y': ('Y', 'TYR', 'tyrosine'),\n",
    "    'V': ('V', 'VAL', 'valine'),\n",
    "    'X': ('X', 'GLX', 'glutaminx'),\n",
    "    'Z': ('Z', 'GLI', 'glycine'),\n",
    "    'J': ('J', 'NLE', 'norleucine'),\n",
    "    'U': ('U', 'CYC', 'cysteinc')\n",
    "}"
   ]
  },
  {
   "cell_type": "code",
   "execution_count": 6,
   "metadata": {},
   "outputs": [],
   "source": [
    "## read in fa\n",
    "with open(\"data/ADA.fa\", \"r\") as file:\n",
    "    fa = file.read()\n",
    "    fa = fa.split('\\n')\n",
    "    fa = [i for i in fa if i != '']\n",
    "    fa = fa[1:]\n",
    "    fa = ''.join(fa)\n",
    "    fa = list(fa)"
   ]
  },
  {
   "cell_type": "code",
   "execution_count": 15,
   "metadata": {},
   "outputs": [],
   "source": [
    "## As I didn't find a good reference for insertion or deletoin frequency, \n",
    "## and the question of this assignment has nothing to do with the frequency\n",
    "## but just the functional predictoin \"when\" it happens\n",
    "## So these indels are created by random\n",
    "## I will create 9 random insertions and 9 random deletions\n",
    "import random\n",
    "random.seed(404)\n",
    "def mk_ins(fa, random_ins, ins):\n",
    "    for i in random_ins:\n",
    "        aa1 = one2all[fa[i]][1]\n",
    "        aa2 = one2all[fa[i+1]][1]\n",
    "        aai = random.choice(list(one2all.keys()))\n",
    "        insi = f'p.{aa1}{i}_{aa2}{i+1}ins{aai}'\n",
    "        ins.append(insi)\n",
    "    return ins\n",
    "\n",
    "## generate 18 random integers in the range of length of fa\n",
    "\n",
    "random_ints = random.sample(range(0, len(fa)), 18)\n",
    "random_ins = random_ints[:9]\n",
    "random_del = random_ints[9:]\n",
    "ins_generate = mk_ins(fa, random_ins, ins)"
   ]
  },
  {
   "cell_type": "code",
   "execution_count": 17,
   "metadata": {},
   "outputs": [],
   "source": [
    "def mk_del(fa, random_del, deletions):\n",
    "    for i in random_del:\n",
    "        aa1 = one2all[fa[i]][1]\n",
    "        deli = f'p.{aa1}{i}del'\n",
    "        deletions.append(deli)\n",
    "    return deletions"
   ]
  },
  {
   "cell_type": "code",
   "execution_count": 19,
   "metadata": {},
   "outputs": [],
   "source": [
    "deletions_generate = mk_del(fa, random_del, deletions)"
   ]
  },
  {
   "cell_type": "code",
   "execution_count": 21,
   "metadata": {},
   "outputs": [],
   "source": [
    "## write out ins_generate and deletions_generate\n",
    "## to tsv files\n",
    "df_ins = pd.DataFrame(ins_generate, columns=['ins'])\n",
    "df_del = pd.DataFrame(deletions_generate, columns=['del'])\n",
    "df_ins.to_csv('data/ins.tsv', sep='\\t', index=False)\n",
    "df_del.to_csv('data/del.tsv', sep='\\t', index=False)"
   ]
  },
  {
   "cell_type": "code",
   "execution_count": null,
   "metadata": {},
   "outputs": [],
   "source": [
    "\n",
    "import pyhgvs as hgvs\n",
    "from pyhgvs.utils import read_transcripts\n",
    "from pyfaidx import Fasta\n",
    "\n",
    "# Read genome sequence using pyfaidx.\n",
    "genome = Fasta('/mnt/data/hong/reference/Homo_sapiens/NCBI/GRCh38/Sequence/WholeGenomeFasta/genome.fa')\n",
    "\n",
    "# Read RefSeq transcripts into a python dict.\n",
    "with open('/mnt/data/hong/reference/Homo_sapiens/refseq/hg38_all.gtf') as infile:\n",
    "    transcripts = read_transcripts(infile)\n",
    "\n",
    "# Provide a callback for fetching a transcript by its name.\n",
    "def get_transcript(name):\n",
    "    return transcripts.get(name)"
   ]
  },
  {
   "cell_type": "code",
   "execution_count": 39,
   "metadata": {},
   "outputs": [
    {
     "data": {
      "text/plain": [
       "<pyhgvs.models.Transcript at 0x7f0762379ae0>"
      ]
     },
     "execution_count": 39,
     "metadata": {},
     "output_type": "execute_result"
    }
   ],
   "source": [
    "transcripts['NM_000022']"
   ]
  },
  {
   "cell_type": "code",
   "execution_count": 28,
   "metadata": {},
   "outputs": [],
   "source": [
    "## get codon frequency\n",
    "## read in data/NG_007385.1.fa\n",
    "## skip firt line\n",
    "with open('data/NG_007385.1.fa') as fi:\n",
    "    coding_seq = ''.join(''.join(fi.readlines()[1:]).split('\\n'))"
   ]
  },
  {
   "cell_type": "code",
   "execution_count": null,
   "metadata": {},
   "outputs": [],
   "source": [
    "codon = [coding_seq[i:i+3] for i in range(0,len(coding_seq), 3)]"
   ]
  },
  {
   "cell_type": "code",
   "execution_count": 40,
   "metadata": {},
   "outputs": [
    {
     "name": "stdout",
     "output_type": "stream",
     "text": [
      "NM_000022.2:c.179_180insTAT\n",
      "NM_000022.2:c.6_7insTGG\n",
      "NM_000022.2:c.191_192insTGG\n",
      "NM_000022.2:c.195_196insCAA\n",
      "NM_000022.2:c.274_275insCTC\n",
      "NM_000022.2:c.204_205insGCT\n",
      "NM_000022.2:c.983_984insGTA\n",
      "NM_000022.2:c.15_16insGGG\n",
      "NM_000022.2:c.376_377insTCT\n"
     ]
    }
   ],
   "source": [
    "# Parse the HGVS name into genomic coordinates and alleles.\n",
    "## create HGVS names\n",
    "## 'NG_007385.1':c.1234_1235insACGT\n",
    "## https://databases.lovd.nl/shared/refseq/ADA_NM_000022.2_codingDNA.html\n",
    "ng = 'NM_000022.2'\n",
    "import random\n",
    "random.seed(404)\n",
    "def mk_cins():\n",
    "    i = 1\n",
    "    while True:\n",
    "        start = random.sample(range(0, 1089), 1)[0]\n",
    "        end = start +1\n",
    "        ins = random.sample(codon, 1)[0]\n",
    "        ins_hgvs = f'{ng}:c.{start}_{end}ins{ins}'\n",
    "        yield ins_hgvs, i\n",
    "        i += 1\n",
    "chroms, offsets, refs, alts = [], [], [], []\n",
    "for ins_names, num in mk_cins():\n",
    "    if num > 9:\n",
    "        break\n",
    "    print(ins_names)\n",
    "    chrom, offset, ref, alt = hgvs.parse_hgvs_name(ins_names, genome, get_transcript=get_transcript, lazy=True)\n",
    "    chroms.append(chrom)\n",
    "    offsets.append(offset)\n",
    "    refs.append(ref)\n",
    "    alts.append(alt)"
   ]
  }
 ],
 "metadata": {
  "kernelspec": {
   "display_name": "genes",
   "language": "python",
   "name": "python3"
  },
  "language_info": {
   "codemirror_mode": {
    "name": "ipython",
    "version": 3
   },
   "file_extension": ".py",
   "mimetype": "text/x-python",
   "name": "python",
   "nbconvert_exporter": "python",
   "pygments_lexer": "ipython3",
   "version": "3.10.6"
  }
 },
 "nbformat": 4,
 "nbformat_minor": 2
}
